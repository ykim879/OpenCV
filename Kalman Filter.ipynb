{
 "cells": [
  {
   "cell_type": "markdown",
   "metadata": {},
   "source": [
    "# Kalman Filter\n",
    "## Logic behind Kalman Filter\n",
    "operates recursively on a stream of noisy input data to produce a statistically optimal estimate of the underlying system state.( smoothen the estimate of a tracked object's position.) The Kalman filter itself is not gathering these tracking results, but it is updating its model of the object's motion based on the tracking results derived from another algorithm, such as MeanShift.\n",
    "### Example of using Kalman filter\n",
    "Think of a small red ball on a table and imagine you have a camera pointing at the scene. You identify the ball as the subject to be tracked, and flick it with your fingers. The ball will start rolling on the table in accordance with the laws of motion.\n",
    "If the ball is rolling at a speed of 1 meter per second in a particular direction, it is easy to estimate where the ball will be in 1 second's time: it will be 1 meter away. The Kalman filter applies laws such as this to predict an object's position in the current video frame based on tracking results gathered in previous frames.\n",
    "#### Limitation\n",
    "Cannot forsee new forces"
   ]
  },
  {
   "cell_type": "code",
   "execution_count": null,
   "metadata": {},
   "outputs": [],
   "source": [
    "## This code is from the book Learning OpenCV Computer Vision with Python3\n",
    "import cv2\n",
    "import numpy as np\n",
    "\n",
    "# Create a black image.\n",
    "img = np.zeros((800, 800, 3), np.uint8)\n",
    "\n",
    "# Initialize the Kalman filter.\n",
    "kalman = cv2.KalmanFilter(4, 2)\n",
    "kalman.measurementMatrix = np.array(\n",
    "    [[1, 0, 0, 0],\n",
    "     [0, 1, 0, 0]], np.float32)\n",
    "kalman.transitionMatrix = np.array(\n",
    "    [[1, 0, 1, 0],\n",
    "     [0, 1, 0, 1],\n",
    "     [0, 0, 1, 0],\n",
    "     [0, 0, 0, 1]], np.float32)\n",
    "kalman.processNoiseCov = np.array(\n",
    "    [[1, 0, 0, 0],\n",
    "     [0, 1, 0, 0],\n",
    "     [0, 0, 1, 0],\n",
    "     [0, 0, 0, 1]], np.float32) * 0.03\n",
    "\n",
    "last_measurement = None\n",
    "last_prediction = None\n",
    "\n",
    "def on_mouse_moved(event, x, y, flags, param):\n",
    "    global img, kalman, last_measurement, last_prediction\n",
    "\n",
    "    measurement = np.array([[x], [y]], np.float32)\n",
    "    if last_measurement is None:\n",
    "        # This is the first measurement.\n",
    "        # Update the Kalman filter's state to match the measurement.\n",
    "        kalman.statePre = np.array(\n",
    "            [[x], [y], [0], [0]], np.float32)\n",
    "        kalman.statePost = np.array(\n",
    "            [[x], [y], [0], [0]], np.float32)\n",
    "        prediction = measurement\n",
    "    else:\n",
    "        kalman.correct(measurement)\n",
    "        prediction = kalman.predict()  # Gets a reference, not a copy\n",
    "\n",
    "        # Trace the path of the measurement in green.\n",
    "        cv2.line(img, (last_measurement[0], last_measurement[1]),\n",
    "                 (measurement[0], measurement[1]), (0, 255, 0))\n",
    "\n",
    "        # Trace the path of the prediction in red.\n",
    "        cv2.line(img, (last_prediction[0], last_prediction[1]),\n",
    "                 (prediction[0], prediction[1]), (0, 0, 255))\n",
    "\n",
    "    last_prediction = prediction.copy()\n",
    "    last_measurement = measurement\n",
    "\n",
    "cv2.namedWindow('kalman_tracker')\n",
    "cv2.setMouseCallback('kalman_tracker', on_mouse_moved)\n",
    "\n",
    "while True:\n",
    "    cv2.imshow('kalman_tracker', img)\n",
    "    k = cv2.waitKey(1)\n",
    "    if k == 27:  # Escape\n",
    "        cv2.imwrite('kalman.png', img)\n",
    "        break\n"
   ]
  }
 ],
 "metadata": {
  "kernelspec": {
   "display_name": "Python 3",
   "language": "python",
   "name": "python3"
  },
  "language_info": {
   "codemirror_mode": {
    "name": "ipython",
    "version": 3
   },
   "file_extension": ".py",
   "mimetype": "text/x-python",
   "name": "python",
   "nbconvert_exporter": "python",
   "pygments_lexer": "ipython3",
   "version": "3.8.5"
  }
 },
 "nbformat": 4,
 "nbformat_minor": 4
}
