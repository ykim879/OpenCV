{
 "cells": [
  {
   "cell_type": "markdown",
   "metadata": {},
   "source": [
    "# Intoducton to SURF\n",
    "SURF is a feature detection algorithm that was published in 2006 by Herbert Bay. SURF is several times faster than SIFT\n",
    "\n",
    "What is important to understand is that cv2.SURF is an OpenCV class that performs **keypoint detection with the Fast Hessian algorithm** and **descriptor extraction with SURF**\n",
    "https://medium.com/data-breach/introduction-to-surf-speeded-up-robust-features-c7396d6e7c4e\n"
   ]
  },
  {
   "cell_type": "markdown",
   "metadata": {},
   "source": [
    "### cv2.xfeatures2d.SURF_create\n",
    "The parameter to cv2.xfeatures2d.SURF_create is a threshold for the Fast Hessian algorithm. By increasing the threshold, we can reduce the number of features that will be retained. "
   ]
  },
  {
   "cell_type": "code",
   "execution_count": null,
   "metadata": {},
   "outputs": [],
   "source": []
  }
 ],
 "metadata": {
  "kernelspec": {
   "display_name": "Python 3",
   "language": "python",
   "name": "python3"
  },
  "language_info": {
   "codemirror_mode": {
    "name": "ipython",
    "version": 3
   },
   "file_extension": ".py",
   "mimetype": "text/x-python",
   "name": "python",
   "nbconvert_exporter": "python",
   "pygments_lexer": "ipython3",
   "version": "3.8.5"
  }
 },
 "nbformat": 4,
 "nbformat_minor": 4
}
