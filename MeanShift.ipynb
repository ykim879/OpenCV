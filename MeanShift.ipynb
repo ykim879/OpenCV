{
 "cells": [
  {
   "cell_type": "markdown",
   "metadata": {},
   "source": [
    "# Objective\n",
    "1. understand color histogram\n",
    "2. understnad back propagation of the histogram\n",
    "3. understand meanshift and understand camshift (or to understand camshift)"
   ]
  },
  {
   "cell_type": "markdown",
   "metadata": {},
   "source": [
    "# MeanShift algorithm \n",
    "performs tracking iteratively *by computing a centroid based on probability values in the current tracking rectangle*, shifting the rectangle's center to this centroid, recomputing the centroid based on values in the new rectangle, shifting the rectangle again, and so on. This process continues until convergence is achieved (meaning that the centroid ceases to move or nearly ceases to move) or until a maximum number of iterations is reached. Essentially, MeanShift is a clustering algorithm\n"
   ]
  },
  {
   "cell_type": "markdown",
   "metadata": {},
   "source": [
    "## Process\n",
    "1. Make Color Histogram for the standard frame (the frame you want to keep a track on) by using CalcHist method\n",
    "2. Do back propagation of the suceeding frames and calculate meanshift of this frame"
   ]
  },
  {
   "cell_type": "markdown",
   "metadata": {},
   "source": [
    "## CalcHist()\n",
    "**Parameters:**\n",
    "channels=[0], histSize=[180], and ranges=[0, 180], the histogram has 180 bins for the first channel, and these bins are based on values in this\n"
   ]
  },
  {
   "cell_type": "markdown",
   "metadata": {},
   "source": [
    "## meanshift()\n",
    "**Returns:** return the value of the frame of tracking object."
   ]
  },
  {
   "cell_type": "code",
   "execution_count": 1,
   "metadata": {},
   "outputs": [],
   "source": [
    "# The code is from the book Learning OpenCV Computer Vision with Python3\n",
    "import cv2\n",
    "\n",
    "cap = cv2.VideoCapture(0)\n",
    "\n",
    "# Capture several frames to allow the camera's autoexposure to adjust.\n",
    "for i in range(10):\n",
    "    success, frame = cap.read()\n",
    "if not success:\n",
    "    exit(1)\n",
    "\n",
    "# Define an initial tracking window in the center of the frame.\n",
    "frame_h, frame_w = frame.shape[:2]\n",
    "w = frame_w//8\n",
    "h = frame_h//8\n",
    "x = frame_w//2 - w//2 #center of the frame\n",
    "y = frame_h//2 - h//2 \n",
    "track_window = (x, y, w, h)\n",
    "\n",
    "# Calculate the normalized HSV histogram of the initial window.\n",
    "roi = frame[y:y+h, x:x+w]\n",
    "hsv_roi =  cv2.cvtColor(roi, cv2.COLOR_BGR2HSV)\n",
    "mask = None\n",
    "roi_hist = cv2.calcHist([hsv_roi], [0], mask, [180], [0, 180])\n",
    "cv2.normalize(roi_hist, roi_hist, 0, 255, cv2.NORM_MINMAX)\n",
    "\n",
    "# Define the termination criteria:\n",
    "# 10 iterations or convergence within 1-pixel radius.\n",
    "term_crit = (cv2.TERM_CRITERIA_COUNT | cv2.TERM_CRITERIA_EPS, 10, 1)\n",
    "\n",
    "success, frame = cap.read()\n",
    "while success:\n",
    "\n",
    "    # Perform back-projection of the HSV histogram onto the frame.\n",
    "    hsv = cv2.cvtColor(frame, cv2.COLOR_BGR2HSV)\n",
    "    back_proj = cv2.calcBackProject([hsv], [0], roi_hist, [0, 180], 1)\n",
    "\n",
    "    # Perform tracking with MeanShift.\n",
    "    num_iters, track_window = cv2.meanShift(\n",
    "        back_proj, track_window, term_crit)\n",
    "\n",
    "    # Draw the tracking window.\n",
    "    x, y, w, h = track_window\n",
    "    cv2.rectangle(frame, (x, y), (x+w, y+h), (255, 0, 0), 2)\n",
    "\n",
    "    cv2.imshow('back-projection', back_proj)\n",
    "    cv2.imshow('meanshift', frame)\n",
    "\n",
    "    k = cv2.waitKey(1)\n",
    "    if k == 27:  # Escape\n",
    "        break\n",
    "\n",
    "    success, frame = cap.read()\n"
   ]
  },
  {
   "cell_type": "markdown",
   "metadata": {},
   "source": [
    "# CamShift algorithm\n",
    "The main difference is that a call to cv2.CamShift returns a rectangle with a particular rotation that follows the rotation of the object being tracked"
   ]
  },
  {
   "cell_type": "code",
   "execution_count": null,
   "metadata": {},
   "outputs": [],
   "source": [
    "import cv2\n",
    "import numpy as np\n",
    "\n",
    "cap = cv2.VideoCapture(0)\n",
    "\n",
    "# Capture several frames to allow the camera's autoexposure to adjust.\n",
    "for i in range(10):\n",
    "    success, frame = cap.read()\n",
    "if not success:\n",
    "    exit(1)\n",
    "\n",
    "# Define an initial tracking window in the center of the frame.\n",
    "frame_h, frame_w = frame.shape[:2]\n",
    "w = frame_w//8\n",
    "h = frame_h//8\n",
    "x = frame_w//2 - w//2\n",
    "y = frame_h//2 - h//2\n",
    "track_window = (x, y, w, h)\n",
    "\n",
    "# Calculate the normalized HSV histogram of the initial window.\n",
    "roi = frame[y:y+h, x:x+w]\n",
    "hsv_roi =  cv2.cvtColor(roi, cv2.COLOR_BGR2HSV)\n",
    "mask = None\n",
    "roi_hist = cv2.calcHist([hsv_roi], [0], mask, [180], [0, 180])\n",
    "cv2.normalize(roi_hist, roi_hist, 0, 255, cv2.NORM_MINMAX)\n",
    "\n",
    "# Define the termination criteria:\n",
    "# 10 iterations or convergence within 1-pixel radius.\n",
    "term_crit = (cv2.TERM_CRITERIA_COUNT | cv2.TERM_CRITERIA_EPS, 10, 1)\n",
    "\n",
    "success, frame = cap.read()\n",
    "while success:\n",
    "\n",
    "    # Perform back-projection of the HSV histogram onto the frame.\n",
    "    hsv = cv2.cvtColor(frame, cv2.COLOR_BGR2HSV)\n",
    "    back_proj = cv2.calcBackProject([hsv], [0], roi_hist, [0, 180], 1)\n",
    "\n",
    "    # Perform tracking with CamShift.\n",
    "    rotated_rect, track_window = cv2.CamShift(\n",
    "        back_proj, track_window, term_crit)\n",
    "\n",
    "    # Draw the tracking window.\n",
    "    box_points = cv2.boxPoints(rotated_rect)\n",
    "    box_points = np.int0(box_points)\n",
    "    cv2.polylines(frame, [box_points], True, (255, 0, 0), 2)\n",
    "\n",
    "    cv2.imshow('back-projection', back_proj)\n",
    "    cv2.imshow('camshift', frame)\n",
    "\n",
    "    k = cv2.waitKey(1)\n",
    "    if k == 27:  # Escape\n",
    "        break\n",
    "\n",
    "    success, frame = cap.read()\n"
   ]
  }
 ],
 "metadata": {
  "kernelspec": {
   "display_name": "Python 3",
   "language": "python",
   "name": "python3"
  },
  "language_info": {
   "codemirror_mode": {
    "name": "ipython",
    "version": 3
   },
   "file_extension": ".py",
   "mimetype": "text/x-python",
   "name": "python",
   "nbconvert_exporter": "python",
   "pygments_lexer": "ipython3",
   "version": "3.8.5"
  }
 },
 "nbformat": 4,
 "nbformat_minor": 4
}
